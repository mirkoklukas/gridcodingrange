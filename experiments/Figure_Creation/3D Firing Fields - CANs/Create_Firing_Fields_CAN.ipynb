{
 "cells": [
  {
   "cell_type": "code",
   "execution_count": null,
   "metadata": {},
   "outputs": [],
   "source": [
    "%matplotlib inline\n",
    "%load_ext autoreload\n",
    "%autoreload 2"
   ]
  },
  {
   "cell_type": "code",
   "execution_count": null,
   "metadata": {},
   "outputs": [],
   "source": [
    "import numpy as np\n",
    "import torch\n",
    "from torch import nn\n",
    "import torch.nn.functional as F\n",
    "import matplotlib.pyplot as plt\n",
    "\n",
    "from src.twisted_attr import TwistedAttractor\n",
    "from src.utils import MultiAttractor\n",
    "from src.utils import get_path"
   ]
  },
  {
   "cell_type": "markdown",
   "metadata": {},
   "source": [
    "## Torus attractors"
   ]
  },
  {
   "cell_type": "code",
   "execution_count": null,
   "metadata": {},
   "outputs": [],
   "source": [
    "m = 3\n",
    "mec = MultiAttractor(m=m, dt=0.4)\n",
    "W = mec.attr[0].W\n",
    "print(W.shape)"
   ]
  },
  {
   "cell_type": "code",
   "execution_count": null,
   "metadata": {},
   "outputs": [],
   "source": [
    "y0 = torch.zeros(m, 20, 20)\n",
    "y0[:,0,0] = 10.\n",
    "y0 = y0.view(m, 1, 400)\n",
    "\n",
    "mec.reset(y0)\n",
    "\n",
    "for t in range(1, 300):\n",
    "        b = 0.2*torch.ones(m,1,400)\n",
    "        y0 = mec(torch.zeros(m,1,2), b)\n",
    "            \n",
    "\n",
    "plt.imshow(y0.view(m*20,20))"
   ]
  },
  {
   "cell_type": "markdown",
   "metadata": {},
   "source": [
    "## Path Data"
   ]
  },
  {
   "cell_type": "code",
   "execution_count": null,
   "metadata": {},
   "outputs": [],
   "source": [
    "w=40\n",
    "paths = [get_path(T=500, w=w, vmax=0.5) for _ in range(20)]"
   ]
  },
  {
   "cell_type": "markdown",
   "metadata": {},
   "source": [
    "## Path visualization"
   ]
  },
  {
   "cell_type": "code",
   "execution_count": null,
   "metadata": {},
   "outputs": [],
   "source": [
    "from src.plotting import scatter\n",
    "\n",
    "X,_ = paths[1]\n",
    "scatter(X, mode=\"lines\")"
   ]
  },
  {
   "cell_type": "markdown",
   "metadata": {},
   "source": [
    "## path integration"
   ]
  },
  {
   "cell_type": "code",
   "execution_count": null,
   "metadata": {},
   "outputs": [],
   "source": [
    "A = torch.randn(m, 3, 2)\n",
    "A = A/torch.norm(A, dim=1, keepdim=True)\n",
    "A[0] = torch.eye(3)[:,:2]"
   ]
  },
  {
   "cell_type": "code",
   "execution_count": null,
   "metadata": {},
   "outputs": [],
   "source": [
    "model_input = []\n",
    "\n",
    "for x, v in paths:\n",
    "    model_input.append(4*v@A)"
   ]
  },
  {
   "cell_type": "code",
   "execution_count": null,
   "metadata": {},
   "outputs": [],
   "source": [
    "model_output = []\n",
    "\n",
    "for i,v_ in enumerate(model_input):\n",
    "    T = v_.shape[1]\n",
    "    mec.reset(y0)\n",
    "    \n",
    "    if i%10 == 0: print(i, T)\n",
    "        \n",
    "    y = torch.zeros(T, m*400)\n",
    "    y[[0]] = y0.clone().view(1,m*400)\n",
    "    \n",
    "    for t in range(1, T):\n",
    "        b = .2*torch.ones(m,1,400)\n",
    "        \n",
    "        vel = v_[:,[t],:] + 0.3*torch.randn_like(v_[:,[t],:])\n",
    "        y[[t]] = mec(vel, b)\n",
    "        \n",
    "    model_output.append(y.clone())"
   ]
  },
  {
   "cell_type": "code",
   "execution_count": null,
   "metadata": {},
   "outputs": [],
   "source": [
    "x = torch.cat([x for x,v in paths], dim=0)\n",
    "print(f\"x: {x.size()}\")\n",
    "\n",
    "y = torch.cat(model_output, dim=0)\n",
    "y = y.view(-1, m,20,20)\n",
    "print(f\"y: {y.size()}\")\n",
    "\n"
   ]
  },
  {
   "cell_type": "markdown",
   "metadata": {},
   "source": [
    "## Look"
   ]
  },
  {
   "cell_type": "code",
   "execution_count": null,
   "metadata": {},
   "outputs": [],
   "source": [
    "from scipy.stats import binned_statistic_dd as binst\n",
    "from scipy.ndimage.filters import gaussian_filter\n",
    "from src.plotting import plot_3d_iso\n",
    "from scipy.io import savemat"
   ]
  },
  {
   "cell_type": "code",
   "execution_count": null,
   "metadata": {},
   "outputs": [],
   "source": [
    "print(y.min(), y.max())\n",
    "plt.imshow(y[10].view(m*20,20))"
   ]
  },
  {
   "cell_type": "code",
   "execution_count": null,
   "metadata": {},
   "outputs": [],
   "source": [
    "bins = 100\n",
    "\n",
    "vals = y[:,0,0,0].numpy() + \\\n",
    "       y[:,1,0,0].numpy() + \\\n",
    "       y[:,2,0,0].numpy()  \n",
    "\n",
    "hist, be,_ = binst(x[:].numpy(), vals, bins=bins, statistic='mean')\n",
    "hist = np.nan_to_num(hist)\n",
    "print(hist.min(), hist.max())"
   ]
  },
  {
   "cell_type": "code",
   "execution_count": null,
   "metadata": {},
   "outputs": [],
   "source": [
    "values = gaussian_filter(hist, 3)\n",
    "print(values.min(),values.max())"
   ]
  },
  {
   "cell_type": "code",
   "execution_count": null,
   "metadata": {
    "scrolled": false
   },
   "outputs": [],
   "source": [
    "X, Y, Z = np.mgrid[0:bins:1, 0:bins:1, 0:bins:1]\n",
    "eps = .01\n",
    "c = 0.001\n",
    "\n",
    "plot_3d_iso(X,Y,Z, values, c, eps)"
   ]
  },
  {
   "cell_type": "code",
   "execution_count": null,
   "metadata": {},
   "outputs": [],
   "source": [
    "scipy.io.savemat('./data/data.mat', mdict={'arr': values, 'thresh': c, 'b': float(bins)})"
   ]
  }
 ],
 "metadata": {
  "kernelspec": {
   "display_name": "Python 3",
   "language": "python",
   "name": "python3"
  },
  "language_info": {
   "codemirror_mode": {
    "name": "ipython",
    "version": 3
   },
   "file_extension": ".py",
   "mimetype": "text/x-python",
   "name": "python",
   "nbconvert_exporter": "python",
   "pygments_lexer": "ipython3",
   "version": "3.6.9"
  },
  "toc": {
   "base_numbering": 1,
   "nav_menu": {},
   "number_sections": true,
   "sideBar": true,
   "skip_h1_title": false,
   "title_cell": "Table of Contents",
   "title_sidebar": "Contents",
   "toc_cell": false,
   "toc_position": {
    "height": "calc(100% - 180px)",
    "left": "10px",
    "top": "150px",
    "width": "165px"
   },
   "toc_section_display": true,
   "toc_window_display": true
  }
 },
 "nbformat": 4,
 "nbformat_minor": 2
}
