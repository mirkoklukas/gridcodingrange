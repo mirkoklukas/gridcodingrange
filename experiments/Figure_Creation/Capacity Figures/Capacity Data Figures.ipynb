{
 "cells": [
  {
   "cell_type": "code",
   "execution_count": 13,
   "metadata": {},
   "outputs": [
    {
     "name": "stdout",
     "output_type": "stream",
     "text": [
      "The autoreload extension is already loaded. To reload it, use:\n",
      "  %reload_ext autoreload\n"
     ]
    }
   ],
   "source": [
    "%load_ext autoreload\n",
    "%autoreload 2"
   ]
  },
  {
   "cell_type": "code",
   "execution_count": 14,
   "metadata": {},
   "outputs": [],
   "source": [
    "%matplotlib inline\n",
    "import matplotlib.pyplot as plt\n",
    "from scipy.stats import skewnorm\n",
    "from scipy.stats import norm\n",
    "\n",
    "import numpy as np\n",
    "import pickle\n",
    "\n",
    "from src.prediction import construct_predictions\n",
    "from src.utils import gather_data\n",
    "\n"
   ]
  },
  {
   "cell_type": "markdown",
   "metadata": {},
   "source": [
    "## Load ND data we want to analyse\n",
    "\n",
    "- **Width** data is a 4D array \"indexed\" by\n",
    "(delta, module, dimension, trial)\n",
    "    - Here data for *one* delta only \n",
    "\n"
   ]
  },
  {
   "cell_type": "code",
   "execution_count": 18,
   "metadata": {},
   "outputs": [
    {
     "name": "stdout",
     "output_type": "stream",
     "text": [
      "W shape is (9, 4, 60) indexed by module number, dimension, trial\n"
     ]
    }
   ],
   "source": [
    "\"\"\"\n",
    "    Load the ND data, \n",
    "    which we want to analyze\n",
    "\"\"\"  \n",
    "\n",
    "path_to_data = \"./data/m_k_normal\"\n",
    "W = gather_data(path_to_data, \"width\")\n",
    "\n",
    "\n",
    "\n",
    "\n",
    "W        = W[0,:,:,:]\n",
    "log_mean = np.mean(np.log(W), axis=2)\n",
    "log_std  = np.std(np.log(W), axis=2)\n",
    "\n",
    "print(f\"W shape is {W.shape} indexed by module number, dimension, trial\")"
   ]
  },
  {
   "cell_type": "markdown",
   "metadata": {},
   "source": [
    "## Construct predictions from 1d data\n",
    "\n",
    "- **Width** data for prediction again is a 4D array \"indexed\" by\n",
    "(delta, module, dimension, trial)\n",
    "    - Here we need data for 1D only \n",
    "- **Prediction** is computed from log 1D data and will spit out a 3D array \"indexed\" by (modules, dimensions, delta)"
   ]
  },
  {
   "cell_type": "code",
   "execution_count": 21,
   "metadata": {
    "scrolled": false
   },
   "outputs": [
    {
     "name": "stdout",
     "output_type": "stream",
     "text": [
      "Prediction shape is (9, 7, 5)\n"
     ]
    }
   ],
   "source": [
    "path_to_data = \"./data/benchmark_normal\"\n",
    "\n",
    "X = gather_data(path_to_data)\n",
    "X = X[:, :, 0, :]\n",
    "X = np.swapaxes(X, 0, 1)\n",
    "\n",
    "logX       = np.log(X)\n",
    "prediction = construct_predictions(logX[:,:], \n",
    "                                   ms=range(1,9 + 1), #No. of modules\n",
    "                                   ks=range(1,7 + 1), #Input dim\n",
    "                                   ps=range(5),       #Index into phase resolution subarray\n",
    "                                   raw=False)\n",
    "\n",
    "print(f\"Prediction shape is {prediction.shape}\")"
   ]
  },
  {
   "cell_type": "markdown",
   "metadata": {},
   "source": [
    "## Figure 3a, 3b"
   ]
  },
  {
   "cell_type": "code",
   "execution_count": 23,
   "metadata": {
    "scrolled": false
   },
   "outputs": [
    {
     "data": {
      "image/png": "[encoded data removed]",
      "text/plain": [
       "<Figure size 360x90 with 4 Axes>"
      ]
     },
     "metadata": {
      "needs_background": "light"
     },
     "output_type": "display_data"
    }
   ],
   "source": [
    "plt.rc(\"font\",**{\"family\": \"sans-serif\",\"sans-serif\": [\"Arial\"],\"size\": 8})\n",
    "fig, axes = plt.subplots(figsize=(5., 1.25), ncols=4, sharey=False,  tight_layout = {\"pad\": 0})\n",
    "\n",
    "ms     = np.arange(1,10)\n",
    "ks     = np.array([3,4,5,6])\n",
    "\n",
    "axes[0].set_ylabel(\"Range\")\n",
    "for i,ax in enumerate(axes):\n",
    "\n",
    "    ax.set_title(\"N = {}\".format(ks[i]))\n",
    "    ax.set_xticks(ms)\n",
    "    ax.spines['right'].set_visible(False)\n",
    "    ax.spines['top'].set_visible(False)\n",
    "    ax.set_xlabel(\"M\")\n",
    "    ax.set_yscale(\"log\")\n",
    "\n",
    "    ax.set_xticks(ms)\n",
    "    ax.set_xlim(0.5,ms[-1]+.5)\n",
    "\n",
    "    \n",
    "    k  = ks[i]\n",
    "    k_ = i\n",
    "\n",
    "    \n",
    "    valid = np.where(ms>=k)[0]\n",
    "\n",
    "    \n",
    "    ax.plot(ms[valid], prediction[valid,k - 1,1], \n",
    "                color=\"black\",\n",
    "                linewidth= 3,\n",
    "                linestyle=\"-\",\n",
    "            alpha=1.,\n",
    "                marker=\"None\", markersize=8 , markerfacecolor=\"cyan\") \n",
    "\n",
    "    valid = np.where(2*ms>=k)[0] \n",
    "    a = np.exp(log_mean - 2*log_std)[valid,k_]\n",
    "    b = np.exp(log_mean)[valid,k_]\n",
    "    c = np.exp(log_mean + 2*log_std)[valid,k_]\n",
    "            \n",
    "    ax.plot( [ms[valid],ms[valid]] ,[a,c], linewidth=1.,color=\"C0\",linestyle=\"-\", alpha=1.)\n",
    "    ax.plot(ms[valid], b, \n",
    "            marker=\"s\", color=\"C0\", \n",
    "            markerfacecolor= \"white\",\n",
    "            markersize=4,\n",
    "            markeredgewidth=1.,\n",
    "            linewidth=.5, \n",
    "            linestyle=\"none\")\n",
    "    \n",
    "\n",
    "plt.savefig(\"./Figures/Fig3a_Capacity.pdf\", dpi=300, transparent=False)\n"
   ]
  },
  {
   "cell_type": "code",
   "execution_count": 24,
   "metadata": {},
   "outputs": [
    {
     "data": {
      "image/png": "[encoded data removed]",
      "text/plain": [
       "<Figure size 216x90 with 2 Axes>"
      ]
     },
     "metadata": {
      "needs_background": "light"
     },
     "output_type": "display_data"
    }
   ],
   "source": [
    "plt.rc(\"font\",**{\"family\": \"sans-serif\",\"sans-serif\": [\"Arial\"],\"size\": 8})\n",
    "fig, axes = plt.subplots(figsize=(3., 1.25), ncols=2, sharey=False,  tight_layout = {\"pad\": 0})\n",
    "\n",
    "ms     = np.arange(1,10)\n",
    "ks     = np.array([5,6])\n",
    "\n",
    "axes[0].set_ylabel(\"Range\")\n",
    "for i,ax in enumerate(axes):\n",
    "\n",
    "    ax.set_title(\"N = {}\".format(ks[i]))\n",
    "    ax.set_xticks(ms)\n",
    "    ax.spines['right'].set_visible(False)\n",
    "    ax.spines['top'].set_visible(False)\n",
    "    ax.set_xlabel(\"M\")\n",
    "    ax.set_yscale(\"log\")\n",
    "    ax.set_xticks(ms)\n",
    "    ax.set_xlim(0.5,ms[-1]+.5)\n",
    "\n",
    "    \n",
    "    k     = ks[i]\n",
    "    valid = np.where(ms>=k)[0]\n",
    "    for d in range(1,5):\n",
    "        l = 3. if d == 1 else 1\n",
    "        c = \"black\" \n",
    "        ax.plot(ms[valid], prediction[valid,k - 1,d], \n",
    "                color=c,\n",
    "                linewidth= l,\n",
    "                linestyle=\"-\",\n",
    "                marker=\"None\", markersize=2 , markerfacecolor=\"black\") \n",
    "\n",
    "\n",
    "plt.savefig(\"./Figures/Fig3b_Capacity.pdf\", dpi=300, transparent=False)\n"
   ]
  },
  {
   "cell_type": "code",
   "execution_count": 25,
   "metadata": {},
   "outputs": [
    {
     "data": {
      "image/png": "[encoded data removed]",
      "text/plain": [
       "<Figure size 144x90 with 1 Axes>"
      ]
     },
     "metadata": {
      "needs_background": "light"
     },
     "output_type": "display_data"
    }
   ],
   "source": [
    "plt.rc(\"font\",**{\"family\": \"sans-serif\",\"sans-serif\": [\"Arial\"],\"size\": 8})\n",
    "fig, ax = plt.subplots(figsize=(2., 1.25), ncols=1, sharey=False,  tight_layout = {\"pad\": 0})\n",
    "\n",
    "\n",
    "m  = 9\n",
    "ks = np.array([3,4,5,6])\n",
    "\n",
    "\n",
    "ax.set_title(\"M={}\".format(m))\n",
    "ax.spines['right'].set_visible(False)\n",
    "ax.spines['top'].set_visible(False)\n",
    "ax.set_xlabel(\"N\")\n",
    "ax.set_ylabel(\"Range\")\n",
    "ax.set_yscale(\"log\")\n",
    "\n",
    "ax.set_xticks(1 - 1./ks)\n",
    "ax.set_xticklabels(ks)\n",
    "\n",
    "\n",
    "\n",
    "\n",
    "p = prediction[m - 1,ks-1,1]\n",
    "f = W[m-1,:,:]\n",
    "\n",
    "\n",
    "ax.plot(1 - 1./ks, p, \n",
    "                color=\"black\",\n",
    "                linestyle=\"-\",\n",
    "               marker=\"None\", linewidth=3,\n",
    "                alpha=1., zorder=1000)\n",
    "\n",
    "\n",
    "for t in range(50,60):\n",
    "    ax.plot(1 - 1./ks, f[:,t], \n",
    "            color=\"C1\",\n",
    "            linestyle=\"-\",\n",
    "               marker=\"o\",\n",
    "            markerfacecolor=\"white\",\n",
    "            markeredgewidth=0.5,\n",
    "            markersize=3,\n",
    "            linewidth=0.5,\n",
    "                alpha=1., zorder=-1000)\n",
    "\n",
    "\n",
    "plt.savefig(\"./Figures/Fig4a_Trade_Off.pdf\", dpi=300, transparent=False)\n",
    "\n",
    "  "
   ]
  },
  {
   "cell_type": "code",
   "execution_count": null,
   "metadata": {},
   "outputs": [],
   "source": []
  }
 ],
 "metadata": {
  "kernelspec": {
   "display_name": "Python 3",
   "language": "python",
   "name": "python3"
  },
  "language_info": {
   "codemirror_mode": {
    "name": "ipython",
    "version": 3
   },
   "file_extension": ".py",
   "mimetype": "text/x-python",
   "name": "python",
   "nbconvert_exporter": "python",
   "pygments_lexer": "ipython3",
   "version": "3.6.9"
  },
  "toc": {
   "base_numbering": 1,
   "nav_menu": {},
   "number_sections": true,
   "sideBar": true,
   "skip_h1_title": false,
   "title_cell": "Table of Contents",
   "title_sidebar": "Contents",
   "toc_cell": false,
   "toc_position": {},
   "toc_section_display": true,
   "toc_window_display": false
  }
 },
 "nbformat": 4,
 "nbformat_minor": 2
}
