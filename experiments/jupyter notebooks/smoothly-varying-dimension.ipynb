{
 "cells": [
  {
   "cell_type": "code",
   "execution_count": 1,
   "metadata": {},
   "outputs": [],
   "source": [
    "import matplotlib.pyplot as plt\n",
    "%matplotlib inline\n",
    "from scipy.stats import skewnorm\n",
    "from scipy.stats import norm\n",
    "\n",
    "import numpy as np\n",
    "import pickle\n",
    "\n",
    "import sys\n",
    "sys.path.append(\"../\")\n",
    "\n",
    "from utils import gather_data\n",
    "\n",
    "%load_ext autoreload\n",
    "%autoreload 2"
   ]
  },
  {
   "cell_type": "code",
   "execution_count": 2,
   "metadata": {},
   "outputs": [],
   "source": [
    "\"\"\"\n",
    "    Load the ND data, \n",
    "    which we want to analyze\n",
    "\"\"\"  \n",
    "\n",
    "# Point this path to your data\n",
    "\n",
    "path = \"../data/smooth_k_filtered/20190728-185653-236bf935-b1a4-11e9-8919-acde48001122/out\"\n",
    "W = gather_data(path, \"width\")\n",
    "\n",
    "W        = W[0,:,:,:]\n",
    "log_mean = np.mean(np.log(W), axis=2).T\n",
    "log_std  = np.std(np.log(W), axis=2).T"
   ]
  },
  {
   "cell_type": "code",
   "execution_count": 3,
   "metadata": {},
   "outputs": [],
   "source": [
    "ms = np.array([5], dtype=\"int\")\n",
    "ks = np.concatenate(\n",
    "    [[2.0],\n",
    "     (2 + (2**(np.arange(0, 13.5, 0.5)) / 10000)),\n",
    "     [3.0],\n",
    "     (3 + (2**(np.arange(0, 13.5, 0.5)) / 10000)),\n",
    "     [4.0]])"
   ]
  },
  {
   "cell_type": "code",
   "execution_count": 4,
   "metadata": {},
   "outputs": [
    {
     "name": "stdout",
     "output_type": "stream",
     "text": [
      "2.0 2.0001 2.00014142136 2.0002 2.00028284271 2.0004 2.00056568542 2.0008 2.00113137085 2.0016 2.0022627417 2.0032 2.0045254834 2.0064 2.0090509668 2.0128 2.0181019336 2.0256 2.0362038672 2.0512 2.07240773439 2.1024 2.14481546879 2.2048 2.28963093757 2.4096 2.57926187515 2.8192 3.0 3.0001 3.00014142136 3.0002 3.00028284271 3.0004 3.00056568542 3.0008 3.00113137085 3.0016 3.0022627417 3.0032 3.0045254834 3.0064 3.0090509668 3.0128 3.0181019336 3.0256 3.0362038672 3.0512 3.07240773439 3.1024 3.14481546879 3.2048 3.28963093757 3.4096 3.57926187515 3.8192 4.0\n"
     ]
    }
   ],
   "source": [
    "# Use this output in the .sh file\n",
    "print(' '.join(\"{}\".format(x) for x in ks))"
   ]
  },
  {
   "cell_type": "code",
   "execution_count": 5,
   "metadata": {},
   "outputs": [
    {
     "name": "stderr",
     "output_type": "stream",
     "text": [
      "/anaconda3/envs/py2/lib/python2.7/site-packages/matplotlib/figure.py:2299: UserWarning: This figure includes Axes that are not compatible with tight_layout, so results might be incorrect.\n",
      "  warnings.warn(\"This figure includes Axes that are not compatible \"\n"
     ]
    },
    {
     "data": {
      "image/png": "[encoded data removed]",
      "text/plain": [
       "<Figure size 576x111.6 with 1 Axes>"
      ]
     },
     "metadata": {
      "needs_background": "light"
     },
     "output_type": "display_data"
    }
   ],
   "source": [
    "plt.rc(\"font\",**{\"family\": \"sans-serif\",\"sans-serif\": [\"Arial\"],\"size\": 8})\n",
    "\n",
    "fig, axes = plt.subplots(figsize=(8., 1.55), ncols=len(ms), sharey=False,  tight_layout = {\"pad\": 0})\n",
    "\n",
    "\n",
    "(axes \n",
    " if len(ms) == 1\n",
    " else axes[0]).set_ylabel(\"Capacity\")\n",
    "\n",
    "for i in range(len(ms)):\n",
    "    if len(ms) == 1:\n",
    "        ax = axes\n",
    "    else:\n",
    "        ax = axes[i]\n",
    "\n",
    "    ax.set_title(\"M = {}\".format(ms[i]))\n",
    "    ax.spines['right'].set_visible(False)\n",
    "    ax.spines['top'].set_visible(False)\n",
    "    ax.set_xlabel(\"N\")\n",
    "    ax.set_yscale(\"log\")\n",
    "\n",
    "    ax.set_xlim(ks[0] - 0.5, ks[-1] + 0.5)\n",
    "\n",
    "    m  = ms[i]\n",
    "    m_ = i\n",
    "    \n",
    "    valid = np.where(ks/2 <= m)[0] \n",
    "    a = np.exp(log_mean - 1*log_std)[valid,m_]\n",
    "    b = np.exp(log_mean)[valid,m_]\n",
    "    c = np.exp(log_mean + 1*log_std)[valid,m_]\n",
    "            \n",
    "    ax.plot([ks[valid],ks[valid]] ,[a,c], linewidth=1.,color=\"black\",linestyle=\"-\", alpha=1.)\n",
    "    ax.plot(ks[valid], b, marker=\"s\", color=\"black\", markerfacecolor= \"white\",markersize=4,linewidth=1., linestyle=\"none\")\n",
    "    \n",
    "\n",
    "plt.savefig(\"../Figures/Smooth_Varying_Dimension.pdf\", dpi=300, transparent=False)"
   ]
  }
 ],
 "metadata": {
  "kernelspec": {
   "display_name": "Python 2",
   "language": "python",
   "name": "python2"
  },
  "language_info": {
   "codemirror_mode": {
    "name": "ipython",
    "version": 2
   },
   "file_extension": ".py",
   "mimetype": "text/x-python",
   "name": "python",
   "nbconvert_exporter": "python",
   "pygments_lexer": "ipython2",
   "version": "2.7.16"
  }
 },
 "nbformat": 4,
 "nbformat_minor": 2
}
