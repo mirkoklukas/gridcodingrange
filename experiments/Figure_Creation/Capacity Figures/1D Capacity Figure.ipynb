{
 "cells": [
  {
   "cell_type": "code",
   "execution_count": 1,
   "metadata": {},
   "outputs": [],
   "source": [
    "%load_ext autoreload\n",
    "%autoreload 2"
   ]
  },
  {
   "cell_type": "code",
   "execution_count": 2,
   "metadata": {},
   "outputs": [],
   "source": [
    "import matplotlib.pyplot as plt\n",
    "%matplotlib inline\n",
    "from scipy.stats import skewnorm\n",
    "from scipy.stats import norm\n",
    "\n",
    "import numpy as np\n",
    "import pickle\n",
    "\n",
    "from src.prediction import construct_predictions\n",
    "from src.utils import gather_data"
   ]
  },
  {
   "cell_type": "markdown",
   "metadata": {},
   "source": [
    "## Load data and construct predictions\n",
    "\n",
    "- **Width** data is a 4D array \"indexed\" by\n",
    "(delta, module, dimension, trial)\n",
    "- **Prediction** data is a 3D array \"indexed\" by (modules, dimensions, delta)\n"
   ]
  },
  {
   "cell_type": "code",
   "execution_count": 3,
   "metadata": {},
   "outputs": [],
   "source": [
    "path = \"./data/1D_fitting\"\n",
    "\n",
    "W = gather_data(path, \"width\")\n",
    "W = W[0,:,:,:]\n",
    "log_mean = np.mean(np.log(W), axis=2)\n",
    "log_std  = np.std(np.log(W), axis=2)"
   ]
  },
  {
   "cell_type": "code",
   "execution_count": 4,
   "metadata": {},
   "outputs": [],
   "source": [
    "X = W[:,0,:]\n",
    "logX = np.log(X)\n",
    "x = np.linspace(np.amin(logX), np.amax(logX), num=100, endpoint=True)"
   ]
  },
  {
   "cell_type": "code",
   "execution_count": 5,
   "metadata": {},
   "outputs": [
    {
     "data": {
      "image/png": "[encoded data removed]",
      "text/plain": [
       "<Figure size 144x144 with 8 Axes>"
      ]
     },
     "metadata": {
      "needs_background": "light"
     },
     "output_type": "display_data"
    }
   ],
   "source": [
    "plt.rc(\"font\",**{\"family\": \"sans-serif\",\"sans-serif\": [\"Arial\"],\"size\": 8})\n",
    "fig, axs = plt.subplots(figsize=(2., 2.), ncols=1, nrows=8, sharex=True,  tight_layout = {\"pad\": 0})\n",
    "\n",
    "axs[7].set_xlabel(\"Coding Range\")\n",
    "axs[0].set_title(\"N = 1\")\n",
    "for m_ in range(8):\n",
    "    m = m_ + 1\n",
    "    \n",
    "    ax = axs[7 - m_]\n",
    "    ax.spines['right'].set_visible(False)\n",
    "    ax.spines['top'].set_visible(False)\n",
    "    ax.spines['bottom'].set_visible(False)\n",
    "    ax.spines['left'].set_visible(False)\n",
    "    ylabel = ax.set_ylabel(\"M={}\".format(m))\n",
    "    ylabel.set_rotation(0)\n",
    "    ax.set_yticks([])\n",
    "    ax.set_xscale(\"log\")\n",
    "    \n",
    "    h,_ = np.histogram(X[m_,:], bins=np.exp(x))\n",
    "\n",
    "    ax.plot(np.exp(x[:-1]), h, alpha=1., color=\"black\", linewidth=1.)\n",
    "    ax.fill_between(np.exp(x[:-1]), h, y2=0, color=\"C2\", alpha=.4)\n",
    "\n",
    "\n",
    "plt.savefig(\"./Figures/S1Fig_1d_distr.pdf\", dpi=300, transparent=True)"
   ]
  },
  {
   "cell_type": "code",
   "execution_count": 6,
   "metadata": {},
   "outputs": [
    {
     "data": {
      "image/png": "[encoded data removed]",
      "text/plain": [
       "<Figure size 180x144 with 1 Axes>"
      ]
     },
     "metadata": {
      "needs_background": "light"
     },
     "output_type": "display_data"
    }
   ],
   "source": [
    "plt.rc(\"font\",**{\"family\": \"sans-serif\",\"sans-serif\": [\"Arial\"],\"size\": 8})\n",
    "\n",
    "fig, ax = plt.subplots(figsize=(2.5, 2.), ncols=1, nrows=1, sharex=True,  tight_layout = {\"pad\": 0})\n",
    "\n",
    "ax.set_ylabel(\"Coding Range\")\n",
    "\n",
    "ms = np.arange(1,9)\n",
    "ax.set_title(\"N = 1\")\n",
    "ax.set_xticks(ms)\n",
    "ax.spines['right'].set_visible(False)\n",
    "ax.spines['top'].set_visible(False)\n",
    "ax.set_xlabel(\"M\")\n",
    "ax.set_yscale(\"log\")\n",
    "\n",
    "ax.set_xticks(ms)\n",
    "ax.set_xlim(0.5,ms[-1]+.5)\n",
    "\n",
    "\n",
    "\n",
    "\n",
    "k  = 1\n",
    "k_ = k - 1\n",
    "valid = np.where(2*ms>=k)[0] \n",
    "a = np.exp(log_mean - 2*log_std)[valid,k_]\n",
    "b = np.exp(log_mean)[valid,k_]\n",
    "c = np.exp(log_mean + 2*log_std)[valid,k_]\n",
    "\n",
    "\n",
    "p = 0.2 * (1./(0.2**2))**ms\n",
    "\n",
    "\n",
    "\n",
    "ax.plot(ms[valid], p[valid], \n",
    "                color=\"black\",\n",
    "                linewidth= 3,\n",
    "                linestyle=\"-\",\n",
    "            alpha=1.,\n",
    "                marker=\"None\", markersize=8 , markerfacecolor=\"cyan\") \n",
    "\n",
    "ax.plot( [ms[valid],ms[valid]] ,[a,c], linewidth=1.,color=\"C0\",linestyle=\"-\", alpha=1.)\n",
    "ax.plot(ms[valid], b, \n",
    "        marker=\"s\", color=\"C0\", \n",
    "        markerfacecolor= \"white\",\n",
    "        markersize=6,\n",
    "        markeredgewidth=1.,\n",
    "        linewidth=1., \n",
    "        linestyle=\"none\")\n",
    "  \n",
    "plt.savefig(\"./Figures/S1Fig_1d_bench.pdf\", dpi=300, transparent=True)"
   ]
  },
  {
   "cell_type": "code",
   "execution_count": null,
   "metadata": {},
   "outputs": [],
   "source": []
  }
 ],
 "metadata": {
  "kernelspec": {
   "display_name": "Python 3",
   "language": "python",
   "name": "python3"
  },
  "language_info": {
   "codemirror_mode": {
    "name": "ipython",
    "version": 3
   },
   "file_extension": ".py",
   "mimetype": "text/x-python",
   "name": "python",
   "nbconvert_exporter": "python",
   "pygments_lexer": "ipython3",
   "version": "3.6.9"
  },
  "toc": {
   "base_numbering": 1,
   "nav_menu": {},
   "number_sections": true,
   "sideBar": true,
   "skip_h1_title": false,
   "title_cell": "Table of Contents",
   "title_sidebar": "Contents",
   "toc_cell": false,
   "toc_position": {},
   "toc_section_display": true,
   "toc_window_display": false
  }
 },
 "nbformat": 4,
 "nbformat_minor": 2
}
