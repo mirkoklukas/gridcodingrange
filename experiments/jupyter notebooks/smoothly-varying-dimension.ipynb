{
 "cells": [
  {
   "cell_type": "code",
   "execution_count": 1,
   "metadata": {},
   "outputs": [],
   "source": [
    "import matplotlib.pyplot as plt\n",
    "%matplotlib inline\n",
    "from scipy.stats import skewnorm\n",
    "from scipy.stats import norm\n",
    "\n",
    "import numpy as np\n",
    "import pickle\n",
    "\n",
    "import sys\n",
    "sys.path.append(\"../\")\n",
    "\n",
    "from utils import gather_data\n",
    "\n",
    "%load_ext autoreload\n",
    "%autoreload 2"
   ]
  },
  {
   "cell_type": "code",
   "execution_count": 2,
   "metadata": {},
   "outputs": [],
   "source": [
    "\"\"\"\n",
    "    Load the ND data, \n",
    "    which we want to analyze\n",
    "\"\"\"  \n",
    "\n",
    "# Point this path to your data\n",
    "\n",
    "path = \"../data/smooth_k_filtered/20190728-115915-cbb159bd-b169-11e9-a755-acde48001122/out\"\n",
    "W = gather_data(path, \"width\")\n",
    "\n",
    "W        = W[0,:,:,:]\n",
    "log_mean = np.mean(np.log(W), axis=2).T\n",
    "log_std  = np.std(np.log(W), axis=2).T"
   ]
  },
  {
   "cell_type": "code",
   "execution_count": 3,
   "metadata": {},
   "outputs": [],
   "source": [
    "ms     = np.array([3,4,5,6], dtype=\"int\")\n",
    "ks     = np.arange(2, 4, 0.2)"
   ]
  },
  {
   "cell_type": "code",
   "execution_count": 4,
   "metadata": {},
   "outputs": [
    {
     "name": "stderr",
     "output_type": "stream",
     "text": [
      "/Users/mlewis/Library/Python/2.7/lib/python/site-packages/matplotlib/figure.py:2299: UserWarning: This figure includes Axes that are not compatible with tight_layout, so results might be incorrect.\n",
      "  warnings.warn(\"This figure includes Axes that are not compatible \"\n"
     ]
    },
    {
     "data": {
      "image/png": "[encoded data removed]",
      "text/plain": [
       "<Figure size 576x111.6 with 4 Axes>"
      ]
     },
     "metadata": {
      "needs_background": "light"
     },
     "output_type": "display_data"
    }
   ],
   "source": [
    "plt.rc(\"font\",**{\"family\": \"sans-serif\",\"sans-serif\": [\"Arial\"],\"size\": 8})\n",
    "\n",
    "fig, axes = plt.subplots(figsize=(8., 1.55), ncols=len(ms), sharey=False,  tight_layout = {\"pad\": 0})\n",
    "\n",
    "axes[0].set_ylabel(\"Capacity\")\n",
    "for i,ax in enumerate(axes):\n",
    "\n",
    "    ax.set_title(\"M = {}\".format(ms[i]))\n",
    "    ax.spines['right'].set_visible(False)\n",
    "    ax.spines['top'].set_visible(False)\n",
    "    ax.set_xlabel(\"N\")\n",
    "    ax.set_yscale(\"log\")\n",
    "\n",
    "    ax.set_xlim(ks[0] - 0.5, ks[-1] + 0.5)\n",
    "\n",
    "    m  = ms[i]\n",
    "    m_ = i\n",
    "    \n",
    "    valid = np.where(ks/2 <= m)[0] \n",
    "    a = np.exp(log_mean - 1*log_std)[valid,m_]\n",
    "    b = np.exp(log_mean)[valid,m_]\n",
    "    c = np.exp(log_mean + 1*log_std)[valid,m_]\n",
    "            \n",
    "    ax.plot([ks[valid],ks[valid]] ,[a,c], linewidth=1.,color=\"black\",linestyle=\"-\", alpha=1.)\n",
    "    ax.plot(ks[valid], b, marker=\"s\", color=\"black\", markerfacecolor= \"white\",markersize=4,linewidth=1., linestyle=\"none\")\n",
    "    \n",
    "\n",
    "plt.savefig(\"../Figures/Smooth_Varying_Dimension.pdf\", dpi=300, transparent=False)"
   ]
  }
 ],
 "metadata": {
  "kernelspec": {
   "display_name": "Python 2",
   "language": "python",
   "name": "python2"
  },
  "language_info": {
   "codemirror_mode": {
    "name": "ipython",
    "version": 2
   },
   "file_extension": ".py",
   "mimetype": "text/x-python",
   "name": "python",
   "nbconvert_exporter": "python",
   "pygments_lexer": "ipython2",
   "version": "2.7.12"
  }
 },
 "nbformat": 4,
 "nbformat_minor": 2
}
