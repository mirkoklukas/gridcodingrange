{
 "cells": [
  {
   "cell_type": "code",
   "execution_count": 2,
   "metadata": {},
   "outputs": [
    {
     "name": "stdout",
     "output_type": "stream",
     "text": [
      "The autoreload extension is already loaded. To reload it, use:\n",
      "  %reload_ext autoreload\n"
     ]
    }
   ],
   "source": [
    "import matplotlib.pyplot as plt\n",
    "%matplotlib inline\n",
    "from scipy.stats import skewnorm\n",
    "from scipy.stats import norm\n",
    "\n",
    "import numpy as np\n",
    "import pickle\n",
    "\n",
    "import sys\n",
    "sys.path.append(\"../\")\n",
    "\n",
    "from prediction import construct_predictions\n",
    "from utils import gather_data\n",
    "\n",
    "%load_ext autoreload\n",
    "%autoreload 2\n"
   ]
  },
  {
   "cell_type": "markdown",
   "metadata": {},
   "source": [
    "## Load data and construct predictions\n",
    "\n",
    "- **Width** data is a 4D array \"indexed\" by\n",
    "(delta, module, dimension, trial)\n",
    "- **Prediction** data is a 3D array \"indexed\" by (modules, dimensions, delta)\n"
   ]
  },
  {
   "cell_type": "code",
   "execution_count": 6,
   "metadata": {},
   "outputs": [],
   "source": [
    "\"\"\"\n",
    "    Load the ND data, \n",
    "    which we want to analyze\n",
    "\"\"\"  \n",
    "\n",
    "\n",
    "path = \"../data/ND_data_filtered\"\n",
    "W = gather_data(path, \"width\")\n",
    "\n",
    "W        = W[0,:,:,:]\n",
    "log_mean = np.mean(np.log(W), axis=2)\n",
    "log_std  = np.std(np.log(W), axis=2)\n",
    "\n",
    "\n",
    "\n"
   ]
  },
  {
   "cell_type": "code",
   "execution_count": 8,
   "metadata": {
    "scrolled": false
   },
   "outputs": [],
   "source": [
    "\"\"\"\n",
    "    Load the 1D data, \n",
    "    for predictions\n",
    "\"\"\"\n",
    "\n",
    "path = \"../data/1D_data_for_prediction\" \n",
    "X    = gather_data(path)\n",
    "\n",
    "X = X[:, :, 0, :]\n",
    "X = np.swapaxes(X, 0,1)\n",
    "\n",
    "logX       = np.log(X)\n",
    "prediction = construct_predictions(logX[:,:], range(1,10), range(1,7), range(5), raw=False)\n",
    "\n"
   ]
  },
  {
   "cell_type": "code",
   "execution_count": 117,
   "metadata": {},
   "outputs": [],
   "source": [
    "ms     = np.arange(1,10)\n",
    "ks     = np.array([3,4,5,6])\n"
   ]
  },
  {
   "cell_type": "markdown",
   "metadata": {},
   "source": [
    "## Creating Figures\n",
    "\n",
    "- Figure 5a\n",
    "- Figure 5b"
   ]
  },
  {
   "cell_type": "code",
   "execution_count": 20,
   "metadata": {
    "scrolled": false
   },
   "outputs": [
    {
     "data": {
      "image/png": "[encoded data removed]",
      "text/plain": [
       "<Figure size 432x111.6 with 4 Axes>"
      ]
     },
     "metadata": {},
     "output_type": "display_data"
    }
   ],
   "source": [
    "\"\"\"\n",
    "    Figure 5a\n",
    "\"\"\"\n",
    "\n",
    "plt.rc(\"font\",**{\"family\": \"sans-serif\",\"sans-serif\": [\"Arial\"],\"size\": 8})\n",
    "fig, axes = plt.subplots(figsize=(6., 1.55), ncols=len(ks[:4]), sharey=False,  tight_layout = {\"pad\": 0})\n",
    "\n",
    "axes[0].set_ylabel(\"Capacity\")\n",
    "for i,ax in enumerate(axes):\n",
    "\n",
    "    ax.set_title(\"N = {}\".format(ks[i]))\n",
    "    ax.set_xticks(ms)\n",
    "    ax.spines['right'].set_visible(False)\n",
    "    ax.spines['top'].set_visible(False)\n",
    "    ax.set_xlabel(\"M\")\n",
    "    ax.set_yscale(\"log\")\n",
    "\n",
    "    ax.set_xticks(ms)\n",
    "    ax.set_xlim(0.5,ms[-1]+.5)\n",
    "\n",
    "    \n",
    "    k  = ks[i]\n",
    "    k_ = i\n",
    "\n",
    "    \n",
    "    valid = np.where(ms>=k)[0]\n",
    "\n",
    "    \n",
    "    ax.plot(ms[valid], prediction[valid,k - 1,1], \n",
    "                color=\"black\",\n",
    "                linewidth= 3,\n",
    "                linestyle=\"-\",\n",
    "                marker=\"None\", markersize=2 , markerfacecolor=\"black\") \n",
    "\n",
    "\n",
    "    valid = np.where(2*ms>=k)[0] \n",
    "    a = np.exp(log_mean - 1*log_std)[valid,k_]\n",
    "    b = np.exp(log_mean)[valid,k_]\n",
    "    c = np.exp(log_mean + 1*log_std)[valid,k_]\n",
    "            \n",
    "    ax.plot( [ms[valid],ms[valid]] ,[a,c], linewidth=1.,color=\"black\",linestyle=\"-\", alpha=1.)\n",
    "    ax.plot(ms[valid], b, marker=\"s\", color=\"black\", markerfacecolor= \"white\",markersize=4,linewidth=1., linestyle=\"none\")\n",
    "    \n",
    "\n",
    "plt.savefig(\"../Figures/Capacity_Figure_5a.pdf\", dpi=300, transparent=False)\n"
   ]
  },
  {
   "cell_type": "code",
   "execution_count": 18,
   "metadata": {},
   "outputs": [
    {
     "data": {
      "image/png": "[encoded data removed]",
      "text/plain": [
       "<Figure size 432x111.6 with 4 Axes>"
      ]
     },
     "metadata": {},
     "output_type": "display_data"
    }
   ],
   "source": [
    "\"\"\"\n",
    "    Figure 5b\n",
    "\"\"\"\n",
    "\n",
    "plt.rc(\"font\",**{\"family\": \"sans-serif\",\"sans-serif\": [\"Arial\"],\"size\": 8})\n",
    "fig, axes = plt.subplots(figsize=(6., 1.55), ncols=len(ks[:4]), sharey=False,  tight_layout = {\"pad\": 0})\n",
    "\n",
    "axes[0].set_ylabel(\"Capacity\")\n",
    "for i,ax in enumerate(axes):\n",
    "\n",
    "    ax.set_title(\"N = {}\".format(ks[i]))\n",
    "    ax.set_xticks(ms)\n",
    "    ax.spines['right'].set_visible(False)\n",
    "    ax.spines['top'].set_visible(False)\n",
    "    ax.set_xlabel(\"M\")\n",
    "    ax.set_yscale(\"log\")\n",
    "    ax.set_xticks(ms)\n",
    "    ax.set_xlim(0.5,ms[-1]+.5)\n",
    "\n",
    "    \n",
    "    k     = ks[i]\n",
    "    valid = np.where(ms>=k)[0]\n",
    "    for d in range(1,5):\n",
    "        l = 3. if d == 1 else 1\n",
    "        c = \"black\" \n",
    "        ax.plot(ms[valid], prediction[valid,k - 1,d], \n",
    "                color=c,\n",
    "                linewidth= l,\n",
    "                linestyle=\"-\",\n",
    "                marker=\"None\", markersize=2 , markerfacecolor=\"black\") \n",
    "\n",
    "\n",
    "plt.savefig(\"../Figures/Capacity_Figure_5b.pdf\", dpi=300, transparent=False)\n"
   ]
  }
 ],
 "metadata": {
  "kernelspec": {
   "display_name": "Python 2",
   "language": "python",
   "name": "python2"
  },
  "language_info": {
   "codemirror_mode": {
    "name": "ipython",
    "version": 2
   },
   "file_extension": ".py",
   "mimetype": "text/x-python",
   "name": "python",
   "nbconvert_exporter": "python",
   "pygments_lexer": "ipython2",
   "version": "2.7.10"
  }
 },
 "nbformat": 4,
 "nbformat_minor": 2
}
